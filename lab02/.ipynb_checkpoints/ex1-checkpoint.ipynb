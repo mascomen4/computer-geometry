{
 "cells": [
  {
   "cell_type": "markdown",
   "id": "82d79a60",
   "metadata": {},
   "source": [
    "# Лабораторная работа номер 2.  \n",
    "\n",
    "Подмогильный Иван Александрович  \n",
    "23.09.2021\n"
   ]
  },
  {
   "cell_type": "markdown",
   "id": "4a66265f",
   "metadata": {},
   "source": [
    "### Упражнение 1"
   ]
  },
  {
   "cell_type": "code",
   "execution_count": null,
   "id": "c29efbed",
   "metadata": {},
   "outputs": [],
   "source": [
    "from matplotlib import pyplot as plt \n",
    "import numpy as np\n",
    "%matplotlib inline"
   ]
  },
  {
   "cell_type": "code",
   "execution_count": 55,
   "id": "e08f0564",
   "metadata": {},
   "outputs": [],
   "source": [
    "points = np.array([[0,1], [1,2], [3,5], [3, 6]])\n",
    "transform = 5"
   ]
  },
  {
   "cell_type": "code",
   "execution_count": 56,
   "id": "af725e78",
   "metadata": {},
   "outputs": [
    {
     "data": {
      "text/plain": [
       "[<matplotlib.lines.Line2D at 0x7f73424b6c10>]"
      ]
     },
     "execution_count": 56,
     "metadata": {},
     "output_type": "execute_result"
    },
    {
     "data": {
      "image/png": "[encoded data removed]",
      "text/plain": [
       "<Figure size 432x288 with 1 Axes>"
      ]
     },
     "metadata": {
      "needs_background": "light"
     },
     "output_type": "display_data"
    }
   ],
   "source": [
    "fig = plt.figure()\n",
    "ax1 = fig.add_subplot(1, 1, 1)\n",
    "\n",
    "ax1.plot(points[:, 0], points[:, 1])\n",
    "ax1.grid()\n",
    "\n",
    "tr_points = points + transform\n",
    "ax1.plot(tr_points[:, 0], tr_points[:, 1])"
   ]
  },
  {
   "cell_type": "markdown",
   "id": "0b6bd59e",
   "metadata": {},
   "source": [
    "### Упражнение 2\n",
    "#### Задание:  \n",
    "\n",
    "Нарисовать произвольный многоугольник. Выполнить над ним следующие преобразования:\n",
    " - повороты вокруг указанной произвольной точки на заданный угол;\n",
    " - поворот вокруг центра масс;\n",
    " - сдвиги по указанному направлению (вектору);\n",
    " - отражение относительно биссектрисы первой четверти декартовой системы координат.  \n",
    "\n",
    "\n",
    "На рисунке должен отображаться центр масс многоугольника, его вершины и углы поворота."
   ]
  },
  {
   "cell_type": "code",
   "execution_count": 58,
   "id": "5d66d42e",
   "metadata": {},
   "outputs": [
    {
     "data": {
      "text/plain": [
       "[<matplotlib.lines.Line2D at 0x7f7342404670>]"
      ]
     },
     "execution_count": 58,
     "metadata": {},
     "output_type": "execute_result"
    },
    {
     "data": {
      "image/png": "[encoded data removed]",
      "text/plain": [
       "<Figure size 432x288 with 1 Axes>"
      ]
     },
     "metadata": {
      "needs_background": "light"
     },
     "output_type": "display_data"
    }
   ],
   "source": [
    "points = np.array([[ 2.44929360e-16,  4.00000000e+00],\n",
    "                 [-3.46410162e+00,  2.00000000e+00],\n",
    "                 [-3.46410162e+00, -2.00000000e+00],\n",
    "                 [-7.34788079e-16, -4.00000000e+00],\n",
    "                 [ 3.46410162e+00, -2.00000000e+00],\n",
    "                 [ 3.46410162e+00,  2.00000000e+00],\n",
    "                 [ 1.22464680e-15,  4.00000000e+00]])\n",
    "\n",
    "fig = plt.figure()\n",
    "ax = fig.add_subplot(1, 1, 1)\n",
    "ax.set_aspect(\"equal\")\n",
    "ax.grid()\n",
    "ax.tick_params(axis = \"both\", which = \"major\", labelsize = 15)\n",
    "ax.plot(points[:, 0], points[:, 1])"
   ]
  },
  {
   "cell_type": "code",
   "execution_count": null,
   "id": "4f4d8758",
   "metadata": {},
   "outputs": [],
   "source": [
    "def xy_rotation(polygon, xy, angle):\n",
    "    \n",
    "    rot = np.array([[np.cos, np.sin],\n",
    "                   [-np.sin, np.cos]])\n",
    "\n",
    "def "
   ]
  },
  {
   "cell_type": "code",
   "execution_count": null,
   "id": "1923043d",
   "metadata": {},
   "outputs": [],
   "source": []
  }
 ],
 "metadata": {
  "kernelspec": {
   "display_name": "Python 3 (ipykernel)",
   "language": "python",
   "name": "python3"
  },
  "language_info": {
   "codemirror_mode": {
    "name": "ipython",
    "version": 3
   },
   "file_extension": ".py",
   "mimetype": "text/x-python",
   "name": "python",
   "nbconvert_exporter": "python",
   "pygments_lexer": "ipython3",
   "version": "3.8.8"
  }
 },
 "nbformat": 4,
 "nbformat_minor": 5
}
