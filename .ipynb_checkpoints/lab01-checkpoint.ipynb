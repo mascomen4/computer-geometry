{
 "cells": [
  {
   "cell_type": "code",
   "execution_count": 6,
   "id": "620bcc09",
   "metadata": {},
   "outputs": [],
   "source": [
    "from matplotlib import pyplot as plt\n",
    "import numpy as np\n",
    "\n",
    "import matplotlib.patches as mpatches"
   ]
  },
  {
   "cell_type": "code",
   "execution_count": 15,
   "id": "3d3390d0",
   "metadata": {},
   "outputs": [],
   "source": [
    "points = [(-7, -1), (-5, 1), (-5, 0), (1, 2)]\n",
    "np_points = np.array(points)"
   ]
  },
  {
   "cell_type": "code",
   "execution_count": 16,
   "id": "01d24e2a",
   "metadata": {},
   "outputs": [],
   "source": [
    "x = np_points[:, 0]\n",
    "y = np_points[:, 1]\n",
    "# To chooose (x,y) of the i-th point we write: x,y = np_fig[i, :]"
   ]
  },
  {
   "cell_type": "code",
   "execution_count": 24,
   "id": "6b3d9461",
   "metadata": {},
   "outputs": [
    {
     "data": {
      "text/plain": [
       "<matplotlib.patches.Polygon at 0x7f45b5133340>"
      ]
     },
     "execution_count": 24,
     "metadata": {},
     "output_type": "execute_result"
    },
    {
     "data": {
      "image/png": "[encoded data removed]",
      "text/plain": [
       "<Figure size 432x288 with 1 Axes>"
      ]
     },
     "metadata": {
      "needs_background": "light"
     },
     "output_type": "display_data"
    }
   ],
   "source": [
    "%matplotlib inline\n",
    "\n",
    "fig = plt.figure(num=1)\n",
    "ax1 = fig.add_subplot(1, 1, 1)\n",
    "ax1.set_xlim(left=-8, right=3.1)\n",
    "ax1.set_ylim(bottom=-1.5, top=3.1)\n",
    "ax1.set_aspect('equal')\n",
    "\n",
    "polygon = mpatches.Polygon(xy=points, closed=True, fill=False, linewidth=\"2.0\", color=(0, 1, 0))\n",
    "ax1.add_patch(polygon)"
   ]
  },
  {
   "cell_type": "code",
   "execution_count": null,
   "id": "28eef744",
   "metadata": {},
   "outputs": [],
   "source": []
  }
 ],
 "metadata": {
  "kernelspec": {
   "display_name": "Python 3 (ipykernel)",
   "language": "python",
   "name": "python3"
  },
  "language_info": {
   "codemirror_mode": {
    "name": "ipython",
    "version": 3
   },
   "file_extension": ".py",
   "mimetype": "text/x-python",
   "name": "python",
   "nbconvert_exporter": "python",
   "pygments_lexer": "ipython3",
   "version": "3.8.8"
  }
 },
 "nbformat": 4,
 "nbformat_minor": 5
}
