{
 "cells": [
  {
   "cell_type": "markdown",
   "metadata": {
    "collapsed": true,
    "pycharm": {
     "name": "#%% md\n"
    }
   },
   "source": [
    "# Лабораторная работа №4. Компьютерная геометрия.\n",
    "Подмогильный Иван Александрович\n",
    "\n",
    "## Задание №1"
   ]
  },
  {
   "cell_type": "code",
   "execution_count": 5,
   "metadata": {
    "pycharm": {
     "name": "#%%\n"
    }
   },
   "outputs": [],
   "source": [
    "import numpy as np\n",
    "import matplotlib.pyplot as plt\n",
    "\n",
    "def func(t):\n",
    "    y = 1 / (1 + np.power(t, 2))\n",
    "    return np.array([t, y])"
   ]
  },
  {
   "cell_type": "code",
   "execution_count": 63,
   "metadata": {
    "pycharm": {
     "name": "#%%\n"
    }
   },
   "outputs": [],
   "source": [
    "def fabric_of_quadratic_polynomial(t, P):\n",
    "    \"\"\"Производим квадратные трехчлены\"\"\"\n",
    "    assert P.shape == (3, 2), \"На вход три точки (x, y) в виде матрицы 3х2\"\n",
    "\n",
    "    T = np.array([np.ones_like(t), t, t**2]).T\n",
    "    A = np.linalg.solve(T, P)\n",
    "\n",
    "    def P(t):\n",
    "        \"\"\"Квадратный трехчлен\"\"\"\n",
    "        T = np.array([np.ones_like(t), t, t**2]).T\n",
    "        return np.matmul(T, A)\n",
    "        # или\n",
    "        #return np.array([A[0] + A[1] * t + A[2] * t**2 for t in t])\n",
    "    return P\n",
    "\n",
    "\n",
    "def fabric_of_cubic_polynomial(t, P):\n",
    "    \"\"\"Производим кубические трехчлены\"\"\"\n",
    "    assert P.shape == (4, 2), \"На вход четыре точки (x, y) в виде матрицы 4х2\"\n",
    "\n",
    "    T = np.array([np.ones_like(t), t, t**2, t**3]).T\n",
    "    A = np.linalg.solve(T, P)\n",
    "\n",
    "    return lambda t: np.matmul(np.array([np.ones_like(t), t, t**2, t**3]).T, A)\n",
    "\n",
    "def fabric_of_8_polynomial(t, P):\n",
    "    \"\"\" Производим полиномы 8 порядка \"\"\"\n",
    "    assert P.shape == (9, 2), \" На вход девять точек (x, y) в виде матрицы 9х2 \"\n",
    "\n",
    "    T = np.array([np.ones_like(t), t, t**2, t**3, t**4, t**5, t**6, t**7, t**8]).T\n",
    "#     print(T.shape)\n",
    "    A = np.linalg.solve(T, P)\n",
    "\n",
    "    return lambda t: np.matmul(np.array([ np.ones_like(t), t, t**2, t**3, t**4, t**5, t**6, t**7, t**8 ]).T, A )\n",
    "\n",
    "\n",
    "def fabric_of_12_polynomial(t, P):\n",
    "    \"\"\" Производим полиномы 12 порядка \"\"\"\n",
    "    assert P.shape == (13, 2), \" На вход 13 точек (x, y) в виде матрицы 13х2 \"\n",
    "\n",
    "    T = np.array([np.ones_like(t), t, t**2, t**3, t**4, t**5, t**6, t**7, t**8, t**9, t**10, t**11, t**12]).T\n",
    "#     print(\"Shape of T\", T.shape)\n",
    "#     print(\"Shape of P\", P.shape)\n",
    "    A = np.linalg.solve(T, P)\n",
    "\n",
    "    return lambda t: np.matmul(np.array([ np.ones_like(t), t, t**2, t**3, t**4, t**5, t**6, t**7, t**8, t**9, \n",
    "                                        t**10, t**11, t**12]).T, A )"
   ]
  },
  {
   "cell_type": "code",
   "execution_count": 29,
   "metadata": {
    "pycharm": {
     "name": "#%%\n"
    }
   },
   "outputs": [
    {
     "name": "stdout",
     "output_type": "stream",
     "text": [
      "(3,)\n",
      "[[-6.          0.02702703]\n",
      " [ 0.          1.        ]\n",
      " [ 6.          0.02702703]]\n"
     ]
    }
   ],
   "source": [
    "ts = np.linspace(-1.9 * np.pi, 1.9 * np.pi, 100)\n",
    "\n",
    "t = np.linspace(-6, 6, 3)\n",
    "print(t.shape)\n",
    "y = 1 / (1 + np.power(t, 2))\n",
    "P = np.array([t, y]).T\n",
    "print(P)\n",
    "\n",
    "pol2d = fabric_of_quadratic_polynomial(t, P)\n",
    "\n",
    "t = np.linspace(-1.9 * np.pi, 1.9 * np.pi, 4)\n",
    "y = 1 / (1 + np.power(t, 2))\n",
    "P = np.array([t, y]).T\n",
    "\n",
    "pol3d = fabric_of_cubic_polynomial(t, P)\n",
    "\n",
    "X1, Y1 = pol2d(ts).T\n",
    "X2, Y2 = pol3d(ts).T"
   ]
  },
  {
   "cell_type": "code",
   "execution_count": 19,
   "metadata": {
    "pycharm": {
     "name": "#%%\n"
    }
   },
   "outputs": [
    {
     "data": {
      "text/plain": [
       "<matplotlib.legend.Legend at 0x7f23bbfd0b80>"
      ]
     },
     "execution_count": 19,
     "metadata": {},
     "output_type": "execute_result"
    },
    {
     "data": {
      "image/png": "[encoded data removed]",
      "text/plain": [
       "<Figure size 432x288 with 1 Axes>"
      ]
     },
     "metadata": {
      "needs_background": "light"
     },
     "output_type": "display_data"
    }
   ],
   "source": [
    "fig01 = plt.figure(num=1)\n",
    "ax01 = fig01.add_subplot(1,1,1)\n",
    "\n",
    "# ax01.set_aspect('equal')\n",
    "\n",
    "ax01.plot(X1, Y1, color='red', label='Квадратный полином')\n",
    "ax01.plot(X2, Y2, color='green', label='Кубический полином')\n",
    "ax01.plot(*func(ts), color='k', label=\"Исходная функция\")\n",
    "\n",
    "ax01.legend(loc='best')\n",
    "\n",
    "# TODO: Добавить где-то 6-7 степени полиномы. "
   ]
  },
  {
   "cell_type": "markdown",
   "metadata": {},
   "source": [
    "## Задание №2\n",
    "Интерполируйте заданный в таблице 2 набор точек с помощью полинома высокого порядка. Данные точки принадлежат графику функции\n",
    "$$ 𝑦(𝑥) = sin(𝑥) + sin(2𝑥) + cos(1/2𝑥 − 1) + cos(𝑥) − 3/2sin(𝑥/10) $$\n",
    "Сверьте свои результаты с рисунком 9 Увеличивайте количество точек для интерполяции (рассчитайте их уже самостоятельно на основе формулы)."
   ]
  },
  {
   "cell_type": "code",
   "execution_count": 75,
   "metadata": {},
   "outputs": [
    {
     "name": "stdout",
     "output_type": "stream",
     "text": [
      "(13, 2)\n"
     ]
    }
   ],
   "source": [
    "ts = np.linspace(-1.9 * np.pi, 1.9 * np.pi, 100)\n",
    "\n",
    "points = np.array([[-5.0, 1.5692891916312426],\n",
    "                    [-3.75, -1.6022633680642007],\n",
    "                    [-2.5, -0.6977591688287066],\n",
    "                    [-1.25, -1.0992994360133685],\n",
    "                    [0.0, 1.5403023058681398],\n",
    "                    [1.25, 2.6062746476892844],\n",
    "                    [2.5, -0.5637892632772554],\n",
    "                    [3.75, -0.36253263477291164],\n",
    "                    [5.0, -1.8676843063278836]])\n",
    "\n",
    "x = np.linspace(-5, 5, 13)\n",
    "def func2(x):\n",
    "    assert type(x) == np.ndarray, \"На вход нумпай массив. \"\n",
    "    return np.sin(x) + np.sin(2*x) + np.cos(1/2*x - 1) + np.cos(x) - 3/2*np.sin(x/10)\n",
    "y = func2(x)\n",
    "P = np.array([ x, y ]).T\n",
    "\n",
    "print(P.shape)\n",
    "t = np.linspace(-6, 6, 9)\n",
    "\n",
    "\n",
    "pol8d = fabric_of_8_polynomial(t, points)\n",
    "X1, Y1 = pol8d(ts).T\n",
    "\n",
    "pol12d = fabric_of_12_polynomial(x, P)\n",
    "X2, Y2 = pol12d(ts).T"
   ]
  },
  {
   "cell_type": "code",
   "execution_count": 76,
   "metadata": {},
   "outputs": [
    {
     "data": {
      "text/plain": [
       "<matplotlib.legend.Legend at 0x7f23bad0e610>"
      ]
     },
     "execution_count": 76,
     "metadata": {},
     "output_type": "execute_result"
    },
    {
     "data": {
      "image/png": "[encoded data removed]",
      "text/plain": [
       "<Figure size 432x288 with 1 Axes>"
      ]
     },
     "metadata": {
      "needs_background": "light"
     },
     "output_type": "display_data"
    }
   ],
   "source": [
    "fig01 = plt.figure(num=1)\n",
    "ax01 = fig01.add_subplot(1,1,1)\n",
    "\n",
    "# ax01.set_aspect('equal')\n",
    "ax01.set_xlim(-6, 6)\n",
    "ax01.set_ylim(-6, 6)\n",
    "\n",
    "# Uncomment to see the interpolation of polynom of 8th level.\n",
    "# ax01.plot(X1, Y1, color='red', label='Полином 8 степени')\n",
    "ax01.plot(X2, Y2, color='green', label='Полином 12 степени')\n",
    "#ax01.plot(*func(ts), color='k', label=\"Исходная функция\")\n",
    "ax01.plot(ts, func2(ts), color=\"black\", label=\"Исходная функция\")\n",
    "\n",
    "ax01.legend(loc='best')\n"
   ]
  },
  {
   "cell_type": "markdown",
   "metadata": {},
   "source": [
    "## Задание №3\n",
    "1. Нарисовать 3 сегмента сплайна Эрмита по заданным точкам и известным касательным векторам (см. рисунок 10).\n",
    "2. Используйте равномерный опорный вектор t = {0, 1, 2, 3}.\n",
    "3. Постройте те же сегменты, используя уже аппроксимированные касательные векторы, найденные с помощью тройных конечных разностей.\n",
    "4. Проверьте правильность работы вашей программы сверив с рисунком 10."
   ]
  },
  {
   "cell_type": "markdown",
   "metadata": {},
   "source": [
    "### Нарисуем 3 сегмента сплайна Эрмита по заданным точкам и известным касательным векторам"
   ]
  },
  {
   "cell_type": "code",
   "execution_count": 122,
   "metadata": {},
   "outputs": [],
   "source": [
    "def F(t):\n",
    "    \"\"\"Вектор опорных функций\"\"\"\n",
    "    A = np.array([\n",
    "        [1, 0, 0, 0],\n",
    "        [0, 1, 0, 0],\n",
    "        [-3, -2, 3, -1],\n",
    "        [2, 1, -2, 1]\n",
    "    ], dtype=np.float64)\n",
    "    return np.matmul(np.array([np.ones_like(t), t, t**2, t**3]).T, A)\n",
    "\n",
    "\n",
    "def cspline(t, p0, p1, v0, v1):\n",
    "    M = np.array([p0, v0, p1, v1])\n",
    "    return np.matmul(F(t), M)"
   ]
  },
  {
   "cell_type": "code",
   "execution_count": 119,
   "metadata": {},
   "outputs": [],
   "source": [
    "p0 = np.array([ 0.5, 0.5 ])\n",
    "p1 = np.array([ 1.5, 0.5 ])\n",
    "p2 = np.array([ 2.0, 1.0 ])\n",
    "p3 = np.array([ 1.0, 1.0 ])\n",
    "\n",
    "v0 = np.array([ 0.25, 0.5 ])\n",
    "v1 = np.array([ 0.25, -0.25 ])\n",
    "v2 = np.array([ 0.25, -0.25 ])\n",
    "v3 = np.array([ 0.25, -0.25 ])"
   ]
  },
  {
   "cell_type": "code",
   "execution_count": 120,
   "metadata": {},
   "outputs": [],
   "source": [
    "t = np.linspace(0, 1, 100)\n",
    "X1, Y1 = cspline(t, p0, p1, v0, v1).T\n",
    "X2, Y2 = cspline(t, p1, p2, v1, v2).T\n",
    "X3, Y3 = cspline(t, p2, p3, v2, v3).T"
   ]
  },
  {
   "cell_type": "code",
   "execution_count": 121,
   "metadata": {},
   "outputs": [
    {
     "data": {
      "image/png": "[encoded data removed]",
      "text/plain": [
       "<Figure size 432x288 with 1 Axes>"
      ]
     },
     "metadata": {
      "needs_background": "light"
     },
     "output_type": "display_data"
    }
   ],
   "source": [
    "fig = plt.figure(num=0)\n",
    "ax = fig.add_subplot(1, 1, 1)\n",
    "\n",
    "ax.plot(X1, Y1)\n",
    "ax.plot(X2, Y2)\n",
    "ax.plot(X3, Y3)\n",
    "ax.plot([p0[0], p1[0], p2[0], p3[0]], [p0[1], p1[1], p2[1], p3[1]], marker='o', lw=0)\n",
    "\n",
    "ax.arrow(p0[0], p0[1], p0[0]*v0[0]*0.5, p0[1]*v0[1]*0.5, width=0.0001, head_width=0.02, color=\"black\")\n",
    "ax.arrow(p1[0], p1[1], p1[0]*v1[0]*0.5, p1[1]*v1[1]*0.5, width=0.0001, head_width=0.02, color=\"black\")\n",
    "ax.arrow(p2[0], p2[1], p2[0]*v2[0]*0.5, p2[1]*v2[1]*0.5, width=0.0001, head_width=0.02, color=\"black\")\n",
    "ax.arrow(p3[0], p3[1], p3[0]*v3[0]*0.5, p3[1]*v3[1]*0.5, width=0.0001, head_width=0.02, color=\"black\")\n",
    "ax.grid()"
   ]
  },
  {
   "cell_type": "markdown",
   "metadata": {},
   "source": [
    "### Нарисуем сегменты сплайна Эрмита, используя равномерный опорный вектор "
   ]
  },
  {
   "cell_type": "code",
   "execution_count": 138,
   "metadata": {},
   "outputs": [],
   "source": [
    "def H00(t):\n",
    "    \"\"\"Базисный полином Эрмита $h_{00}(t)$\"\"\"\n",
    "    return (2*t + 1)*(t - 1)**2\n",
    "\n",
    "H00.name = r'$h_{00}(t)$'\n",
    "\n",
    "def H10(t):\n",
    "    \"\"\"Базисный полином Эрмита $h_{10}(t)$\"\"\"\n",
    "    return t*(t - 1)**2\n",
    "\n",
    "H10.name = r'$h_{10}(t)$'\n",
    "\n",
    "def H01(t):\n",
    "    \"\"\"Базисный полином Эрмита $h_{01}(t)$\"\"\"\n",
    "    return (3 - 2*t)*(t**2)\n",
    "\n",
    "H01.name = r'$h_{01}(t)$'\n",
    "\n",
    "def H11(t):\n",
    "    \"\"\"Базисный полином Эрмита $h_{11}(t)$\"\"\"\n",
    "    return (t - 1)*(t**2)\n",
    "\n",
    "H11.name = r'$h_{11}(t)$'\n",
    "\n",
    "\n",
    "def spline(T, points, vectors):\n",
    "    res = []\n",
    "    tau = np.linspace(0, 1, 100) # as far as I understood, tau is just a set of elements from 0 to 1\n",
    "    for i in range( len(points) - 1 ):\n",
    "        res.append( H00(tau)*points[i][:, np.newaxis] + H10(tau)*(T[i+1] - T[i])*vectors[i][:, np.newaxis] + \n",
    "                   H01(tau)*points[i+1][:, np.newaxis] + H11(tau)*(T[i+1] - T[i])*vectors[i+1][:, np.newaxis] )\n",
    "    return res"
   ]
  },
  {
   "cell_type": "code",
   "execution_count": 154,
   "metadata": {},
   "outputs": [
    {
     "data": {
      "text/plain": [
       "[<matplotlib.lines.Line2D at 0x7f23baae0b50>]"
      ]
     },
     "execution_count": 154,
     "metadata": {},
     "output_type": "execute_result"
    },
    {
     "data": {
      "image/png": "[encoded data removed]",
      "text/plain": [
       "<Figure size 432x288 with 1 Axes>"
      ]
     },
     "metadata": {
      "needs_background": "light"
     },
     "output_type": "display_data"
    }
   ],
   "source": [
    "T = [0, 1, 2, 3]\n",
    "τ = np.linspace(0, 1, 100)\n",
    "points = [p0, p1, p2, p3]\n",
    "vectors = [v0, v1, v2, v3]\n",
    "\n",
    "splines = spline(T, points, vectors)\n",
    "\n",
    "fig = plt.figure(num=0)\n",
    "ax = fig.add_subplot(1, 1, 1)\n",
    "\n",
    "X1, Y1 = splines[0]\n",
    "X2, Y2 = splines[1]\n",
    "X3, Y3 = splines[2]\n",
    "\n",
    "ax.plot(X1, Y1)\n",
    "ax.plot(X2, Y2)\n",
    "ax.plot(X3, Y3)"
   ]
  },
  {
   "cell_type": "markdown",
   "metadata": {},
   "source": [
    "### Построим те же сегменты, используя уже аппроксимированные касательные векторы, найденные с помощью тройных конечных разностей."
   ]
  },
  {
   "cell_type": "code",
   "execution_count": 155,
   "metadata": {},
   "outputs": [],
   "source": [
    "# Найдём примерные вектора. \n",
    "approx_v = []\n",
    "v0 = (points[1] - points[0]) / (T[1] - T[0])\n",
    "v3 = (points[3] - points[2]) / (T[3] - T[2])\n",
    "approx_v.append(v0)\n",
    "\n",
    "for i in range(1, len(points) - 1):\n",
    "    v = 1/2 * ( (points[i+1] - points[i])/(T[i+1] - T[i]) + (points[i] - points[i-1])/(T[i] - T[i-1]) )\n",
    "    approx_v.append(v)\n",
    "    \n",
    "approx_v.append(v3)\n",
    "\n",
    "\n",
    "t = np.linspace(0, 1, 100)\n",
    "X1, Y1 = cspline(t, points[0], points[1], approx_v[0], approx_v[1]).T\n",
    "X2, Y2 = cspline(t, points[1], points[2], approx_v[1], approx_v[2]).T\n",
    "X3, Y3 = cspline(t, points[2], points[3], approx_v[2], approx_v[3]).T"
   ]
  },
  {
   "cell_type": "code",
   "execution_count": 160,
   "metadata": {},
   "outputs": [
    {
     "data": {
      "text/plain": [
       "[<matplotlib.lines.Line2D at 0x7f23babcd130>]"
      ]
     },
     "execution_count": 160,
     "metadata": {},
     "output_type": "execute_result"
    },
    {
     "data": {
      "image/png": "[encoded data removed]",
      "text/plain": [
       "<Figure size 432x288 with 1 Axes>"
      ]
     },
     "metadata": {
      "needs_background": "light"
     },
     "output_type": "display_data"
    }
   ],
   "source": [
    "fig = plt.figure(num=0)\n",
    "ax = fig.add_subplot(1, 1, 1)\n",
    "\n",
    "ax.plot(X1, Y1)\n",
    "ax.plot(X2, Y2)\n",
    "ax.plot(X3, Y3)\n",
    "ax.plot([ X1[0], X2[0], X3[0], X3[-1] ], [ Y1[0], Y2[0], Y3[0], Y3[-1] ], lw=0, marker='o')"
   ]
  },
  {
   "cell_type": "code",
   "execution_count": null,
   "metadata": {},
   "outputs": [],
   "source": []
  }
 ],
 "metadata": {
  "kernelspec": {
   "display_name": "Python 3 (ipykernel)",
   "language": "python",
   "name": "python3"
  },
  "language_info": {
   "codemirror_mode": {
    "name": "ipython",
    "version": 3
   },
   "file_extension": ".py",
   "mimetype": "text/x-python",
   "name": "python",
   "nbconvert_exporter": "python",
   "pygments_lexer": "ipython3",
   "version": "3.8.8"
  }
 },
 "nbformat": 4,
 "nbformat_minor": 1
}
