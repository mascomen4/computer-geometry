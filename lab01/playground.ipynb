{
 "cells": [
  {
   "cell_type": "code",
   "execution_count": 1,
   "id": "1ffc29bb",
   "metadata": {},
   "outputs": [],
   "source": [
    "import numpy as np"
   ]
  },
  {
   "cell_type": "code",
   "execution_count": 2,
   "id": "067bec25",
   "metadata": {},
   "outputs": [],
   "source": [
    "fi = np.linspace(0, 10, 100)"
   ]
  },
  {
   "cell_type": "code",
   "execution_count": 6,
   "id": "12cd52b0",
   "metadata": {},
   "outputs": [],
   "source": [
    "def R(x):\n",
    "    return np.array([[np.cos(x), np.sin(x)], [-np.sin(x), np.cos(x)]])"
   ]
  },
  {
   "cell_type": "code",
   "execution_count": 7,
   "id": "2712864a",
   "metadata": {},
   "outputs": [],
   "source": [
    "z = 2 + 4j"
   ]
  },
  {
   "cell_type": "code",
   "execution_count": 8,
   "id": "d1919e5e",
   "metadata": {},
   "outputs": [
    {
     "data": {
      "text/plain": [
       "(2+4j)"
      ]
     },
     "execution_count": 8,
     "metadata": {},
     "output_type": "execute_result"
    }
   ],
   "source": [
    "z"
   ]
  },
  {
   "cell_type": "code",
   "execution_count": null,
   "id": "9b9bbc85",
   "metadata": {},
   "outputs": [],
   "source": []
  }
 ],
 "metadata": {
  "kernelspec": {
   "display_name": "Python 3 (ipykernel)",
   "language": "python",
   "name": "python3"
  },
  "language_info": {
   "codemirror_mode": {
    "name": "ipython",
    "version": 3
   },
   "file_extension": ".py",
   "mimetype": "text/x-python",
   "name": "python",
   "nbconvert_exporter": "python",
   "pygments_lexer": "ipython3",
   "version": "3.8.8"
  }
 },
 "nbformat": 4,
 "nbformat_minor": 5
}
