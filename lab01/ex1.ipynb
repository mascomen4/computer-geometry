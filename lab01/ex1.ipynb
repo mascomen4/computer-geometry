{
 "cells": [
  {
   "cell_type": "code",
   "execution_count": 3,
   "id": "620bcc09",
   "metadata": {},
   "outputs": [],
   "source": [
    "from matplotlib import pyplot as plt\n",
    "import numpy as np\n",
    "\n",
    "import matplotlib.patches as mpatches"
   ]
  },
  {
   "cell_type": "code",
   "execution_count": 6,
   "id": "3d3390d0",
   "metadata": {},
   "outputs": [],
   "source": [
    "points = [(-7, -1), (-5, 1), (-5, 0), (1, 2)]\n",
    "np_points = np.array(points)"
   ]
  },
  {
   "cell_type": "code",
   "execution_count": 47,
   "id": "eecc61b3",
   "metadata": {},
   "outputs": [],
   "source": [
    "x = np_points[:, 0]\n",
    "y = np_points[:, 1]\n",
    "# To chooose (x,y) of the i-th point we write: x,y = np_fig[i, :]"
   ]
  },
  {
   "cell_type": "code",
   "execution_count": 63,
   "id": "af59e785",
   "metadata": {},
   "outputs": [
    {
     "data": {
      "text/plain": [
       "<matplotlib.collections.PathCollection at 0x7f45b2732bb0>"
      ]
     },
     "execution_count": 63,
     "metadata": {},
     "output_type": "execute_result"
    },
    {
     "data": {
      "image/png": "[encoded data removed]",
      "text/plain": [
       "<Figure size 432x288 with 1 Axes>"
      ]
     },
     "metadata": {
      "needs_background": "light"
     },
     "output_type": "display_data"
    }
   ],
   "source": [
    "%matplotlib inline\n",
    "\n",
    "fig = plt.figure(num=1)\n",
    "ax1 = fig.add_subplot(1, 1, 1)\n",
    "ax1.set_xlim(left=-8, right=3.1)\n",
    "ax1.set_ylim(bottom=-1.5, top=3.1)\n",
    "ax1.set_aspect('equal')\n",
    "ax1.grid()\n",
    "ax1.set_xlabel(\"X\")\n",
    "ax1.set_ylabel(\"Y\")\n",
    "# ax1.legend(ncol=2, title='Многоугольник', framealpha=0.7, fontsize=12)\n",
    "\n",
    "polygon = mpatches.Polygon(xy=points, closed=True, fill=False, linewidth=\"2.0\", color=(0, 1, 0), hatch='o')\n",
    "ax1.add_patch(polygon)\n",
    "\n",
    "ax1.scatter(x, y, c=\"black\", s=100, marker=\"<\")\n",
    "\n",
    "# Чтобы добавить точки на вершины, мы можем использовать функцию scatter. Также, можно использовать lines.Line2D с\n",
    "# указанием маркера."
   ]
  },
  {
   "cell_type": "code",
   "execution_count": null,
   "id": "8b42aa9e",
   "metadata": {},
   "outputs": [],
   "source": [
    "fig.savefig('ex1.pdf', format='pdf', bbox_inches='tight', pad_inches=0, dpi=300, )"
   ]
  }
 ],
 "metadata": {
  "kernelspec": {
   "display_name": "Python 3 (ipykernel)",
   "language": "python",
   "name": "python3"
  },
  "language_info": {
   "codemirror_mode": {
    "name": "ipython",
    "version": 3
   },
   "file_extension": ".py",
   "mimetype": "text/x-python",
   "name": "python",
   "nbconvert_exporter": "python",
   "pygments_lexer": "ipython3",
   "version": "3.8.8"
  }
 },
 "nbformat": 4,
 "nbformat_minor": 5
}
